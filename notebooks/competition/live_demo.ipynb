{
 "cells": [
  {
   "cell_type": "code",
   "execution_count": null,
   "metadata": {},
   "outputs": [],
   "source": [
    "import torchvision\n",
    "import torch\n",
    "from heatmap import HeatmapModel, generate_heatmap\n",
    "\n",
    "model = HeatmapModel(1, [128, 128])\n",
    "model.load_state_dict(torch.load('throttle_model.pth'))\n",
    "\n",
    "device = torch.device('cuda')\n",
    "model = model.to(device).eval().half()"
   ]
  },
  {
   "cell_type": "code",
   "execution_count": 3,
   "metadata": {},
   "outputs": [],
   "source": [
    "import torchvision\n",
    "import torch\n",
    "from heatmap import HeatmapModel, generate_heatmap\n",
    "\n",
    "speed_model = torchvision.models.resnet18(pretrained=True)\n",
    "speed_model.fc = torch.nn.Linear(512, 2)\n",
    "speed_model.load_state_dict(torch.load('steering_model.pth'))\n",
    "\n",
    "device = torch.device('cuda')\n",
    "speed_model = speed_model.to(device).eval().half()"
   ]
  },
  {
   "cell_type": "code",
   "execution_count": 4,
   "metadata": {},
   "outputs": [],
   "source": [
    "import tensorrt as trt\n",
    "from torch2trt import torch2trt, tensorrt_converter"
   ]
  },
  {
   "cell_type": "code",
   "execution_count": null,
   "metadata": {},
   "outputs": [],
   "source": [
    "#from torch2trt import torch2trt, tensorrt_converter, \n",
    "\n",
    "data = torch.zeros((1, 3, 224, 224)).cuda().half()\n",
    "\n",
    "model_trt = torch2trt(model, [data], fp16_mode=True, max_workspace_size=1<<25)"
   ]
  },
  {
   "cell_type": "code",
   "execution_count": 5,
   "metadata": {},
   "outputs": [],
   "source": [
    "\n",
    "data = torch.zeros((1, 3, 224, 224)).cuda().half()\n",
    "\n",
    "speed_model_trt = torch2trt(speed_model, [data], fp16_mode=True, max_workspace_size=1<<25)"
   ]
  },
  {
   "cell_type": "markdown",
   "metadata": {},
   "source": [
    "We can save the model by calling the following.  This way we can re-use the optimized model without having to run the optimization procedure again."
   ]
  },
  {
   "cell_type": "code",
   "execution_count": null,
   "metadata": {},
   "outputs": [],
   "source": [
    "torch.save(model_trt.state_dict(), 'steering_model_trt.pth')"
   ]
  },
  {
   "cell_type": "code",
   "execution_count": 7,
   "metadata": {},
   "outputs": [],
   "source": [
    "torch.save(speed_model_trt.state_dict(), 'throttle_model_trt.pth')"
   ]
  },
  {
   "cell_type": "markdown",
   "metadata": {},
   "source": [
    "We can save the optimized model by loading it into a TRTModule as follows."
   ]
  },
  {
   "cell_type": "code",
   "execution_count": 1,
   "metadata": {},
   "outputs": [],
   "source": [
    "import torch\n",
    "from torch2trt import TRTModule\n",
    "\n",
    "model_trt = TRTModule()\n",
    "model_trt.load_state_dict(torch.load('steering_model_trt.pth'))"
   ]
  },
  {
   "cell_type": "code",
   "execution_count": 2,
   "metadata": {},
   "outputs": [],
   "source": [
    "import torch\n",
    "from torch2trt import TRTModule\n",
    "\n",
    "speed_model_trt = TRTModule()\n",
    "speed_model_trt.load_state_dict(torch.load('throttle_model_trt.pth'))"
   ]
  },
  {
   "cell_type": "markdown",
   "metadata": {},
   "source": [
    "Next, let's create the racecar instance which we'll use to control the robot. "
   ]
  },
  {
   "cell_type": "code",
   "execution_count": 3,
   "metadata": {},
   "outputs": [],
   "source": [
    "from jetracer.nvidia_racecar import NvidiaRacecar\n",
    "\n",
    "car = NvidiaRacecar(\n",
    "    steering_gain=1.0,\n",
    "    steering_offset=0.0,\n",
    "    throttle_gain=-1.0,\n",
    "    throttle_offset=0.0\n",
    ")"
   ]
  },
  {
   "cell_type": "markdown",
   "metadata": {},
   "source": [
    "And some sliders to tune parameters used for steering the robot."
   ]
  },
  {
   "cell_type": "code",
   "execution_count": 4,
   "metadata": {},
   "outputs": [
    {
     "data": {
      "application/vnd.jupyter.widget-view+json": {
       "model_id": "fecffdb0427a4e3f9f4cd242cb4ab230",
       "version_major": 2,
       "version_minor": 0
      },
      "text/plain": [
       "FloatSlider(value=0.5, description='steering gain', max=3.0, step=0.001)"
      ]
     },
     "metadata": {},
     "output_type": "display_data"
    },
    {
     "data": {
      "application/vnd.jupyter.widget-view+json": {
       "model_id": "2b31d4edbb224619b05b773580f09550",
       "version_major": 2,
       "version_minor": 0
      },
      "text/plain": [
       "FloatSlider(value=0.0, description='steering offset', max=0.5, min=-0.5, step=0.001)"
      ]
     },
     "metadata": {},
     "output_type": "display_data"
    },
    {
     "data": {
      "application/vnd.jupyter.widget-view+json": {
       "model_id": "706c5851775d429d95807cd0be8ddc97",
       "version_major": 2,
       "version_minor": 0
      },
      "text/plain": [
       "FloatSlider(value=1.0, description='throttle gain', max=2.0, step=0.001)"
      ]
     },
     "metadata": {},
     "output_type": "display_data"
    },
    {
     "data": {
      "application/vnd.jupyter.widget-view+json": {
       "model_id": "8aa28ce168f04898b57db30c4eb7eb00",
       "version_major": 2,
       "version_minor": 0
      },
      "text/plain": [
       "FloatSlider(value=0.0, description='throttle offset', max=0.5, min=-0.5, step=0.001)"
      ]
     },
     "metadata": {},
     "output_type": "display_data"
    }
   ],
   "source": [
    "from IPython.display import display\n",
    "import ipywidgets\n",
    "\n",
    "steering_gain = ipywidgets.FloatSlider(min=0.0, max=3.0, value=0.5, step=0.001, description='steering gain')\n",
    "steering_offset = ipywidgets.FloatSlider(min=-0.5, max=0.5, value=0.0, step=0.001, description='steering offset')\n",
    "throttle_gain = ipywidgets.FloatSlider(min=0.0, max=2.0, value=1.0, step=0.001, description='throttle gain')\n",
    "throttle_offset = ipywidgets.FloatSlider(min=-0.5, max=0.5, value=0.0, step=0.001, description='throttle offset')\n",
    "\n",
    "display(\n",
    "    steering_gain,\n",
    "    steering_offset,\n",
    "    throttle_gain,\n",
    "    throttle_offset\n",
    ")"
   ]
  },
  {
   "cell_type": "code",
   "execution_count": 5,
   "metadata": {},
   "outputs": [
    {
     "data": {
      "application/vnd.jupyter.widget-view+json": {
       "model_id": "1579c43afdcc4294a73840e660ceb7dd",
       "version_major": 2,
       "version_minor": 0
      },
      "text/plain": [
       "FloatSlider(value=0.0, max=1.0, min=-1.0, step=0.001)"
      ]
     },
     "metadata": {},
     "output_type": "display_data"
    },
    {
     "data": {
      "application/vnd.jupyter.widget-view+json": {
       "model_id": "19bf0bbe473645b5972116da14bb4f0c",
       "version_major": 2,
       "version_minor": 0
      },
      "text/plain": [
       "FloatSlider(value=0.0, max=1.0, step=0.001)"
      ]
     },
     "metadata": {},
     "output_type": "display_data"
    }
   ],
   "source": [
    "steering_slider = ipywidgets.FloatSlider(min=-1.0, max=1.0, value=0.0, step=0.001)\n",
    "throttle_slider = ipywidgets.FloatSlider(min=0.0, max=1.0, value=0.0, step=0.001)\n",
    "\n",
    "display(steering_slider, throttle_slider)"
   ]
  },
  {
   "cell_type": "markdown",
   "metadata": {},
   "source": [
    "Call the following cell to initialize the camera."
   ]
  },
  {
   "cell_type": "code",
   "execution_count": 6,
   "metadata": {},
   "outputs": [
    {
     "data": {
      "application/vnd.jupyter.widget-view+json": {
       "model_id": "2f3475101c494ad9b1845f072cb9a707",
       "version_major": 2,
       "version_minor": 0
      },
      "text/plain": [
       "Image(value=b'', format='jpeg')"
      ]
     },
     "metadata": {},
     "output_type": "display_data"
    }
   ],
   "source": [
    "image_widget = ipywidgets.Image(format='jpeg')\n",
    "\n",
    "display(image_widget)"
   ]
  },
  {
   "cell_type": "code",
   "execution_count": 8,
   "metadata": {},
   "outputs": [],
   "source": [
    "from jetcam.csi_camera import CSICamera\n",
    "from jetcam.utils import bgr8_to_jpeg\n",
    "\n",
    "camera = CSICamera(width=224, height=224, capture_width=1280, capture_height=720, capture_fps=60)\n",
    "\n",
    "camera.running = True"
   ]
  },
  {
   "cell_type": "code",
   "execution_count": 9,
   "metadata": {},
   "outputs": [],
   "source": [
    "import trt_pose.plugins\n",
    "\n",
    "def get_best_peak(heatmap, thresh=0.1):\n",
    "    counts, peaks = trt_pose.plugins.find_peaks(heatmap, thresh, 5, 50)\n",
    "    refined_peaks = trt_pose.plugins.refine_peaks(counts, peaks, heatmap, 5)\n",
    "    vals = []\n",
    "    if counts[0][0] == 0:\n",
    "        return None\n",
    "    for i in range(counts[0][0]):\n",
    "        vals.append(float(heatmap[0, 0, int(peaks[0, 0, i, 0]), int(peaks[0, 0, i, 1])]))\n",
    "    idx = np.argmax(vals)\n",
    "    val = vals[idx]\n",
    "    peak = refined_peaks[0, 0, idx]\n",
    "    return peak"
   ]
  },
  {
   "cell_type": "code",
   "execution_count": 23,
   "metadata": {},
   "outputs": [],
   "source": [
    "from utils import preprocess\n",
    "import cv2\n",
    "import numpy as np\n",
    "\n",
    "# log = []\n",
    "\n",
    "def execute(change):\n",
    "    image = change['new']\n",
    "    data = preprocess(image)\n",
    "    heatmap = model_trt(data).cpu().float()#.numpy()\n",
    "    \n",
    "    peak = get_best_peak(heatmap)\n",
    "    if peak is not None:\n",
    "        yint = int(peak[0] * 224)\n",
    "        xint = int(peak[1] * 224)\n",
    "        y = float(1.0 - peak[0])\n",
    "        x = 2.0 * (float(peak[1]) - 0.5)\n",
    "        car.steering = float(np.clip(x * abs(x) * steering_gain.value + steering_offset.value, -1.0, 1.0))\n",
    "        cv2.circle(image, (xint, yint), 3, (0, 255, 0), 3)\n",
    "        steering_slider.value = car.steering\n",
    "        \n",
    "    speedxy = speed_model_trt(data).cpu().float()\n",
    "    speedy = 0.5 - 0.5 * float(speedxy[0, 1])\n",
    "    car.throttle = speedy * throttle_gain.value + throttle_offset.value\n",
    "    throttle_slider.value = car.throttle\n",
    "    \n",
    "    image_widget.value = bgr8_to_jpeg(image)"
   ]
  },
  {
   "cell_type": "markdown",
   "metadata": {},
   "source": [
    "We'll manually call the execution function once, which may take some time the first time the neural network is called.\n",
    "\n",
    "We recommend disabling autonomous mode for this first execution."
   ]
  },
  {
   "cell_type": "code",
   "execution_count": 24,
   "metadata": {},
   "outputs": [],
   "source": [
    "execute({'new': camera.value})"
   ]
  },
  {
   "cell_type": "markdown",
   "metadata": {},
   "source": [
    "Now, assuming the cell above executed without issue, call the following cell to attach the execute function to new camera values."
   ]
  },
  {
   "cell_type": "code",
   "execution_count": 25,
   "metadata": {},
   "outputs": [],
   "source": [
    "camera.observe(execute, names='value')"
   ]
  },
  {
   "cell_type": "code",
   "execution_count": 22,
   "metadata": {},
   "outputs": [],
   "source": [
    "camera.unobserve_all()"
   ]
  }
 ],
 "metadata": {
  "kernelspec": {
   "display_name": "Python 3",
   "language": "python",
   "name": "python3"
  },
  "language_info": {
   "codemirror_mode": {
    "name": "ipython",
    "version": 3
   },
   "file_extension": ".py",
   "mimetype": "text/x-python",
   "name": "python",
   "nbconvert_exporter": "python",
   "pygments_lexer": "ipython3",
   "version": "3.6.8"
  }
 },
 "nbformat": 4,
 "nbformat_minor": 2
}
