{
 "cells": [
  {
   "cell_type": "code",
   "execution_count": 1,
   "metadata": {},
   "outputs": [],
   "source": [
    "import torch\n",
    "import torchvision\n",
    "\n",
    "NUM_TIMESTEPS = 128\n",
    "\n",
    "model = torchvision.models.resnet18(pretrained=True)\n",
    "model.fc = torch.nn.Linear(512, NUM_TIMESTEPS)\n",
    "\n",
    "device = torch.device('cuda')\n",
    "\n",
    "model.load_state_dict(torch.load('circuit_model.pth'))\n",
    "\n",
    "model = model.to(device).eval().float()"
   ]
  },
  {
   "cell_type": "code",
   "execution_count": 12,
   "metadata": {},
   "outputs": [],
   "source": [
    "import torch\n",
    "from torch2trt import TRTModule\n",
    "\n",
    "apex_model_trt = TRTModule()\n",
    "apex_model_trt.load_state_dict(torch.load('apex_model_trt.pth'))"
   ]
  },
  {
   "cell_type": "code",
   "execution_count": 11,
   "metadata": {},
   "outputs": [],
   "source": [
    "import torch\n",
    "from torch2trt import TRTModule\n",
    "\n",
    "model_trt = TRTModule()\n",
    "model_trt.load_state_dict(torch.load('circuit_model_trt.pth'))"
   ]
  },
  {
   "cell_type": "code",
   "execution_count": 3,
   "metadata": {},
   "outputs": [],
   "source": [
    "import torch2trt\n",
    "import torch\n",
    "\n",
    "data = torch.zeros((1, 3, 224, 224)).cuda()\n",
    "\n",
    "model_trt = torch2trt.torch2trt(model, [data], fp16_mode=True)"
   ]
  },
  {
   "cell_type": "code",
   "execution_count": 4,
   "metadata": {},
   "outputs": [],
   "source": [
    "torch.save(model_trt.state_dict(), 'circuit_model_trt.pth')"
   ]
  },
  {
   "cell_type": "code",
   "execution_count": 3,
   "metadata": {},
   "outputs": [],
   "source": [
    "from jetcam.csi_camera import CSICamera\n",
    "from jetcam.utils import bgr8_to_jpeg\n",
    "\n",
    "camera = CSICamera(width=224, height=224, capture_width=1280, capture_height=720, capture_fps=45)\n",
    "\n",
    "camera.running = True"
   ]
  },
  {
   "cell_type": "code",
   "execution_count": 4,
   "metadata": {},
   "outputs": [
    {
     "data": {
      "application/vnd.jupyter.widget-view+json": {
       "model_id": "f5890a99d7e74689baac473016ae3d57",
       "version_major": 2,
       "version_minor": 0
      },
      "text/plain": [
       "Image(value=b'', format='jpeg')"
      ]
     },
     "metadata": {},
     "output_type": "display_data"
    }
   ],
   "source": [
    "import ipywidgets\n",
    "\n",
    "image_widget = ipywidgets.Image(format='jpeg')\n",
    "\n",
    "image_widget"
   ]
  },
  {
   "cell_type": "code",
   "execution_count": 5,
   "metadata": {},
   "outputs": [],
   "source": [
    "NUM_TIMESTEPS = 128"
   ]
  },
  {
   "cell_type": "code",
   "execution_count": 18,
   "metadata": {},
   "outputs": [],
   "source": [
    "import cv2\n",
    "import os\n",
    "from utils import preprocess\n",
    "\n",
    "\n",
    "def execute(change):\n",
    "    image = change['new']\n",
    "    data = preprocess(image)\n",
    "    \n",
    "    # set steering\n",
    "    xy = apex_model_trt(data)[0].cpu()\n",
    "    x = float(xy[0])\n",
    "    car.steering = x * steering_gain.value + steering_offset.value\n",
    "    \n",
    "    # set speed\n",
    "    output = model_trt(data)[0].detach().cpu() - 0.00\n",
    "    speed = float(torch.exp(-torch.sum(torch.abs(output[0:64])) * 0.1))\n",
    "#     speed = float(torch.mean(torch.exp(-torch.abs(output) * 1.0)))\n",
    "#     scale = torch.exp(-torch.linspace(0, 1.0, NUM_TIMESTEPS))\n",
    "\n",
    "#     speed = float(torch.exp(-10.0 * torch.sum(torch.abs(output) * scale) / scale.sum()))\n",
    "    speed = throttle_gain.value * speed + throttle_offset.value\n",
    "    car.throttle = speed\n",
    "    \n",
    "#     # visualize\n",
    "    x_i = int(112 + float(xy[0]) * 112)\n",
    "    y_i = int(112 + float(xy[1]) * 112)\n",
    "    cv2.circle(image, (x_i, y_i), 5, (255, 0, 0), 3)\n",
    "    \n",
    "    for i in range(NUM_TIMESTEPS):\n",
    "        x = int(float(output[i]) * 112 + 112)\n",
    "        y = int(224 - 224 * i / NUM_TIMESTEPS)\n",
    "        image = cv2.circle(image, (x, y), 2, (0, 255, 0), 2)\n",
    "    cv2.line(image, (112, 0), (112, 224), (255, 0, 0), 2)\n",
    "    \n",
    "    \n",
    "    cv2.putText(image, '%f' % speed, (10, 40), cv2.FONT_HERSHEY_SIMPLEX, 0.5, (0, 255, 0))\n",
    "    \n",
    "    image_widget.value = bgr8_to_jpeg(image)\n",
    "    "
   ]
  },
  {
   "cell_type": "code",
   "execution_count": 19,
   "metadata": {},
   "outputs": [],
   "source": [
    "execute({'new': camera.value})"
   ]
  },
  {
   "cell_type": "code",
   "execution_count": 20,
   "metadata": {},
   "outputs": [],
   "source": [
    "camera.observe(execute, names='value')"
   ]
  },
  {
   "cell_type": "code",
   "execution_count": 63,
   "metadata": {},
   "outputs": [],
   "source": [
    "camera.unobserve_all()"
   ]
  },
  {
   "cell_type": "code",
   "execution_count": 17,
   "metadata": {},
   "outputs": [
    {
     "data": {
      "application/vnd.jupyter.widget-view+json": {
       "model_id": "2d72d909b3aa47688471fd47ae3ccd85",
       "version_major": 2,
       "version_minor": 0
      },
      "text/plain": [
       "FloatSlider(value=0.5, description='steering gain', max=3.0, step=0.001)"
      ]
     },
     "metadata": {},
     "output_type": "display_data"
    },
    {
     "data": {
      "application/vnd.jupyter.widget-view+json": {
       "model_id": "6de3a16ad02e42fc81be7a23db50973d",
       "version_major": 2,
       "version_minor": 0
      },
      "text/plain": [
       "FloatSlider(value=0.0, description='steering offset', max=0.5, min=-0.5, step=0.001)"
      ]
     },
     "metadata": {},
     "output_type": "display_data"
    },
    {
     "data": {
      "application/vnd.jupyter.widget-view+json": {
       "model_id": "40be7b886c2640919e69e2d117ea77f4",
       "version_major": 2,
       "version_minor": 0
      },
      "text/plain": [
       "FloatSlider(value=0.0, description='throttle gain', max=2.0, step=0.001)"
      ]
     },
     "metadata": {},
     "output_type": "display_data"
    },
    {
     "data": {
      "application/vnd.jupyter.widget-view+json": {
       "model_id": "19b7b3aac875498f9aaf9c7ea85963dd",
       "version_major": 2,
       "version_minor": 0
      },
      "text/plain": [
       "FloatSlider(value=0.0, description='throttle offset', max=0.5, min=-0.5, step=0.001)"
      ]
     },
     "metadata": {},
     "output_type": "display_data"
    }
   ],
   "source": [
    "from IPython.display import display\n",
    "import ipywidgets\n",
    "\n",
    "steering_gain = ipywidgets.FloatSlider(min=0.0, max=3.0, value=0.5, step=0.001, description='steering gain')\n",
    "steering_offset = ipywidgets.FloatSlider(min=-0.5, max=0.5, value=0.0, step=0.001, description='steering offset')\n",
    "throttle_gain = ipywidgets.FloatSlider(min=0.0, max=2.0, value=0.0, step=0.001, description='throttle gain')\n",
    "throttle_offset = ipywidgets.FloatSlider(min=-0.5, max=0.5, value=0.0, step=0.001, description='throttle offset')\n",
    "\n",
    "display(\n",
    "    steering_gain,\n",
    "    steering_offset,\n",
    "    throttle_gain,\n",
    "    throttle_offset\n",
    ")"
   ]
  },
  {
   "cell_type": "code",
   "execution_count": 7,
   "metadata": {},
   "outputs": [],
   "source": [
    "import torch\n",
    "from torch2trt import TRTModule\n",
    "\n",
    "apex_model_trt = TRTModule()\n",
    "apex_model_trt.load_state_dict(torch.load('apex_model_trt.pth'))"
   ]
  },
  {
   "cell_type": "code",
   "execution_count": 16,
   "metadata": {},
   "outputs": [],
   "source": [
    "from jetracer.nvidia_racecar import NvidiaRacecar\n",
    "\n",
    "car = NvidiaRacecar(\n",
    "    steering_gain=1.0,\n",
    "    steering_offset=0.0,\n",
    "    throttle_gain=1.0,\n",
    "    throttle_offset=0.0\n",
    ")"
   ]
  },
  {
   "cell_type": "code",
   "execution_count": 9,
   "metadata": {},
   "outputs": [],
   "source": [
    "car.throttle_gain = -1.0"
   ]
  }
 ],
 "metadata": {
  "kernelspec": {
   "display_name": "Python 3",
   "language": "python",
   "name": "python3"
  },
  "language_info": {
   "codemirror_mode": {
    "name": "ipython",
    "version": 3
   },
   "file_extension": ".py",
   "mimetype": "text/x-python",
   "name": "python",
   "nbconvert_exporter": "python",
   "pygments_lexer": "ipython3",
   "version": "3.6.8"
  }
 },
 "nbformat": 4,
 "nbformat_minor": 2
}
