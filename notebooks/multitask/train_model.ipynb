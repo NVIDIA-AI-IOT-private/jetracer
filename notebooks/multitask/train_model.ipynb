{
 "cells": [
  {
   "cell_type": "code",
   "execution_count": 86,
   "metadata": {},
   "outputs": [],
   "source": [
    "import tqdm"
   ]
  },
  {
   "cell_type": "code",
   "execution_count": 87,
   "metadata": {},
   "outputs": [],
   "source": [
    "import torchvision\n",
    "\n",
    "transform = torchvision.transforms.Compose([\n",
    "    torchvision.transforms.ColorJitter(0.2, 0.2, 0.2, 0.2),\n",
    "    torchvision.transforms.Resize((224, 224)),\n",
    "    torchvision.transforms.ToTensor(),\n",
    "    torchvision.transforms.Normalize([0.485, 0.456, 0.406], [0.229, 0.224, 0.225])\n",
    "])"
   ]
  },
  {
   "cell_type": "code",
   "execution_count": 88,
   "metadata": {},
   "outputs": [],
   "source": [
    "import torch \n",
    "\n",
    "NUM_TIMESTEPS = 1024\n",
    "\n",
    "model = torchvision.models.resnet18(pretrained=True)\n",
    "model.fc = torch.nn.Linear(512, 3)\n",
    "\n",
    "device = torch.device('cuda')\n",
    "model = model.to(device)"
   ]
  },
  {
   "cell_type": "code",
   "execution_count": 89,
   "metadata": {},
   "outputs": [],
   "source": [
    "optimizer = torch.optim.Adam(model.parameters())"
   ]
  },
  {
   "cell_type": "code",
   "execution_count": 90,
   "metadata": {},
   "outputs": [],
   "source": [
    "from xy_dataset import XYDataset\n",
    "from circuit_dataset import CircuitDataset\n",
    "\n",
    "circuit_dataset = CircuitDataset('circuit_log', NUM_TIMESTEPS, gamma=1e-2, transform=transform)\n",
    "xy_dataset = XYDataset('apex_dataset', transform=transform, random_hflip=True)"
   ]
  },
  {
   "cell_type": "code",
   "execution_count": 91,
   "metadata": {},
   "outputs": [],
   "source": [
    "def get_indices(N_A, N_B):\n",
    "    if N_A > N_B:\n",
    "        idx_a = torch.randperm(N_A)\n",
    "        idx_b = torch.randperm(N_B)\n",
    "        while len(idx_b) < N_A:\n",
    "            idx_b = torch.cat([idx_b, torch.randperm(N_B)])\n",
    "        idx_b = idx_b[0:N_A]\n",
    "    else:\n",
    "        idx_a = torch.randperm(N_A)\n",
    "        idx_b = torch.randperm(N_B)\n",
    "        while len(idx_a) < N_B:\n",
    "            idx_a = torch.cat([idx_a, torch.randperm(N_A)])\n",
    "        idx_a = idx_a[0:N_B]\n",
    "\n",
    "    return idx_a, idx_b"
   ]
  },
  {
   "cell_type": "code",
   "execution_count": null,
   "metadata": {},
   "outputs": [
    {
     "name": "stderr",
     "output_type": "stream",
     "text": [
      "100%|██████████| 28/28 [00:27<00:00,  1.02it/s]\n",
      "  0%|          | 0/28 [00:00<?, ?it/s]"
     ]
    },
    {
     "name": "stdout",
     "output_type": "stream",
     "text": [
      "0, 0.000449\n"
     ]
    },
    {
     "name": "stderr",
     "output_type": "stream",
     "text": [
      "100%|██████████| 28/28 [00:27<00:00,  1.01it/s]\n",
      "  0%|          | 0/28 [00:00<?, ?it/s]"
     ]
    },
    {
     "name": "stdout",
     "output_type": "stream",
     "text": [
      "1, 0.000479\n"
     ]
    },
    {
     "name": "stderr",
     "output_type": "stream",
     "text": [
      "100%|██████████| 28/28 [00:27<00:00,  1.02it/s]\n",
      "  0%|          | 0/28 [00:00<?, ?it/s]"
     ]
    },
    {
     "name": "stdout",
     "output_type": "stream",
     "text": [
      "2, 0.000333\n"
     ]
    },
    {
     "name": "stderr",
     "output_type": "stream",
     "text": [
      "100%|██████████| 28/28 [00:27<00:00,  1.03s/it]\n",
      "  0%|          | 0/28 [00:00<?, ?it/s]"
     ]
    },
    {
     "name": "stdout",
     "output_type": "stream",
     "text": [
      "3, 0.000279\n"
     ]
    },
    {
     "name": "stderr",
     "output_type": "stream",
     "text": [
      "100%|██████████| 28/28 [00:29<00:00,  1.04s/it]\n",
      "  0%|          | 0/28 [00:00<?, ?it/s]"
     ]
    },
    {
     "name": "stdout",
     "output_type": "stream",
     "text": [
      "4, 0.000239\n"
     ]
    },
    {
     "name": "stderr",
     "output_type": "stream",
     "text": [
      "100%|██████████| 28/28 [00:29<00:00,  1.05s/it]\n",
      "  0%|          | 0/28 [00:00<?, ?it/s]"
     ]
    },
    {
     "name": "stdout",
     "output_type": "stream",
     "text": [
      "5, 0.000153\n"
     ]
    },
    {
     "name": "stderr",
     "output_type": "stream",
     "text": [
      "100%|██████████| 28/28 [00:29<00:00,  1.06s/it]\n",
      "  0%|          | 0/28 [00:00<?, ?it/s]"
     ]
    },
    {
     "name": "stdout",
     "output_type": "stream",
     "text": [
      "6, 0.000169\n"
     ]
    },
    {
     "name": "stderr",
     "output_type": "stream",
     "text": [
      "100%|██████████| 28/28 [00:29<00:00,  1.01s/it]\n",
      "  0%|          | 0/28 [00:00<?, ?it/s]"
     ]
    },
    {
     "name": "stdout",
     "output_type": "stream",
     "text": [
      "7, 0.000144\n"
     ]
    },
    {
     "name": "stderr",
     "output_type": "stream",
     "text": [
      "100%|██████████| 28/28 [00:29<00:00,  1.05s/it]\n",
      "  0%|          | 0/28 [00:00<?, ?it/s]"
     ]
    },
    {
     "name": "stdout",
     "output_type": "stream",
     "text": [
      "8, 0.000213\n"
     ]
    },
    {
     "name": "stderr",
     "output_type": "stream",
     "text": [
      "100%|██████████| 28/28 [00:29<00:00,  1.05s/it]\n",
      "  0%|          | 0/28 [00:00<?, ?it/s]"
     ]
    },
    {
     "name": "stdout",
     "output_type": "stream",
     "text": [
      "9, 0.000105\n"
     ]
    },
    {
     "name": "stderr",
     "output_type": "stream",
     "text": [
      "100%|██████████| 28/28 [00:29<00:00,  1.04s/it]\n",
      "  0%|          | 0/28 [00:00<?, ?it/s]"
     ]
    },
    {
     "name": "stdout",
     "output_type": "stream",
     "text": [
      "10, 0.000094\n"
     ]
    },
    {
     "name": "stderr",
     "output_type": "stream",
     "text": [
      "100%|██████████| 28/28 [00:29<00:00,  1.06s/it]\n",
      "  0%|          | 0/28 [00:00<?, ?it/s]"
     ]
    },
    {
     "name": "stdout",
     "output_type": "stream",
     "text": [
      "11, 0.000132\n"
     ]
    },
    {
     "name": "stderr",
     "output_type": "stream",
     "text": [
      "100%|██████████| 28/28 [00:29<00:00,  1.05s/it]\n",
      "  0%|          | 0/28 [00:00<?, ?it/s]"
     ]
    },
    {
     "name": "stdout",
     "output_type": "stream",
     "text": [
      "12, 0.000111\n"
     ]
    },
    {
     "name": "stderr",
     "output_type": "stream",
     "text": [
      "100%|██████████| 28/28 [00:29<00:00,  1.05s/it]\n",
      "  0%|          | 0/28 [00:00<?, ?it/s]"
     ]
    },
    {
     "name": "stdout",
     "output_type": "stream",
     "text": [
      "13, 0.000115\n"
     ]
    },
    {
     "name": "stderr",
     "output_type": "stream",
     "text": [
      "100%|██████████| 28/28 [00:29<00:00,  1.04s/it]\n",
      "  0%|          | 0/28 [00:00<?, ?it/s]"
     ]
    },
    {
     "name": "stdout",
     "output_type": "stream",
     "text": [
      "14, 0.000134\n"
     ]
    },
    {
     "name": "stderr",
     "output_type": "stream",
     "text": [
      " 61%|██████    | 17/28 [00:17<00:11,  1.04s/it]"
     ]
    }
   ],
   "source": [
    "import torch.nn.functional as F\n",
    "\n",
    "EPOCHS = 30\n",
    "BATCH_SIZE = 32\n",
    "\n",
    "for epoch in range(EPOCHS):\n",
    "    \n",
    "    epoch_loss = 0.0\n",
    "    circuit_idx, xy_idx = get_indices(len(circuit_dataset), len(xy_dataset))\n",
    "    train_loss = 0.0\n",
    "    for idx in tqdm.tqdm(range(0, len(circuit_idx), BATCH_SIZE)):\n",
    "        \n",
    "        idx = 0   \n",
    "        batch_circuit_idx = circuit_idx[idx:idx + BATCH_SIZE]\n",
    "        batch_xy_idx = xy_idx[idx:idx + BATCH_SIZE]\n",
    "\n",
    "        batch_images = []\n",
    "        batch_targets = []\n",
    "        batch_mask = []\n",
    "\n",
    "        # load xy images / target\n",
    "        for i in batch_circuit_idx:\n",
    "            mask = torch.Tensor([0.0, 0.0, 1.0])\n",
    "            img, t = circuit_dataset[i]\n",
    "            target = torch.zeros(3)\n",
    "            target[2] = t\n",
    "            batch_images.append(img)\n",
    "            batch_targets.append(target)\n",
    "            batch_mask.append(mask)\n",
    "\n",
    "        for i in batch_xy_idx:\n",
    "            mask = torch.Tensor([1.0, 1.0, 0.0])\n",
    "            img, t = xy_dataset[i]\n",
    "            target = torch.zeros(3)\n",
    "            target[0:2] = t\n",
    "            batch_images.append(img)\n",
    "            batch_targets.append(target)\n",
    "            batch_mask.append(mask)\n",
    "\n",
    "        images = torch.stack(batch_images).to(device)\n",
    "        targets = torch.stack(batch_targets).to(device)\n",
    "        mask = torch.stack(batch_mask).to(device)\n",
    "        \n",
    "        optimizer.zero_grad()\n",
    "        \n",
    "        output = model(images)\n",
    "        \n",
    "        loss = torch.mean(mask * (targets - output)**2)\n",
    "        \n",
    "        train_loss += float(loss)\n",
    "        loss.backward()\n",
    "        \n",
    "        optimizer.step()\n",
    "    \n",
    "    print('%d, %f' % (epoch, train_loss / len(circuit_idx)))"
   ]
  }
 ],
 "metadata": {
  "kernelspec": {
   "display_name": "Python 3",
   "language": "python",
   "name": "python3"
  },
  "language_info": {
   "codemirror_mode": {
    "name": "ipython",
    "version": 3
   },
   "file_extension": ".py",
   "mimetype": "text/x-python",
   "name": "python",
   "nbconvert_exporter": "python",
   "pygments_lexer": "ipython3",
   "version": "3.5.2"
  }
 },
 "nbformat": 4,
 "nbformat_minor": 2
}
